{
 "cells": [
  {
   "cell_type": "code",
   "execution_count": 1,
   "metadata": {},
   "outputs": [],
   "source": [
    "import os\n",
    "import time\n",
    "import json\n",
    "import numpy as np\n",
    "import cv2"
   ]
  },
  {
   "cell_type": "code",
   "execution_count": 37,
   "metadata": {},
   "outputs": [],
   "source": [
    "def millis():\n",
    "    return int(round(time.time() * 1000))"
   ]
  },
  {
   "cell_type": "code",
   "execution_count": 48,
   "metadata": {},
   "outputs": [
    {
     "name": "stdout",
     "output_type": "stream",
     "text": [
      "(240, 320, 4)\n",
      "(240, 320, 4)\n",
      "(240, 320, 4)\n",
      "(240, 320, 4)\n",
      "(240, 320, 4)\n",
      "(240, 320, 4)\n",
      "(240, 320, 4)\n",
      "(240, 320, 4)\n",
      "(240, 320, 4)\n",
      "(240, 320, 4)\n",
      "(240, 320, 4)\n",
      "(240, 320, 4)\n",
      "(240, 320, 4)\n",
      "(240, 320, 4)\n",
      "(240, 320, 4)\n",
      "(240, 320, 4)\n",
      "(240, 320, 4)\n",
      "(240, 320, 4)\n",
      "(240, 320, 4)\n",
      "(240, 320, 4)\n",
      "(240, 320, 4)\n",
      "(240, 320, 4)\n",
      "(240, 320, 4)\n",
      "(240, 320, 4)\n",
      "(240, 320, 4)\n",
      "(240, 320, 4)\n",
      "(240, 320, 4)\n",
      "(240, 320, 4)\n",
      "(240, 320, 4)\n",
      "(240, 320, 4)\n",
      "(240, 320, 4)\n",
      "(240, 320, 4)\n",
      "(240, 320, 4)\n",
      "(240, 320, 4)\n",
      "(240, 320, 4)\n",
      "(240, 320, 4)\n",
      "(240, 320, 4)\n",
      "(240, 320, 4)\n",
      "(240, 320, 4)\n",
      "(240, 320, 4)\n",
      "(240, 320, 4)\n",
      "(240, 320, 4)\n",
      "(240, 320, 4)\n",
      "(240, 320, 4)\n",
      "(240, 320, 4)\n",
      "(240, 320, 4)\n",
      "(240, 320, 4)\n",
      "(240, 320, 4)\n",
      "(240, 320, 4)\n",
      "(240, 320, 4)\n",
      "(240, 320, 4)\n",
      "(240, 320, 4)\n",
      "(240, 320, 4)\n",
      "(240, 320, 4)\n",
      "(240, 320, 4)\n",
      "(240, 320, 4)\n",
      "(240, 320, 4)\n",
      "(240, 320, 4)\n",
      "(240, 320, 4)\n",
      "(240, 320, 4)\n",
      "(240, 320, 4)\n",
      "(240, 320, 4)\n",
      "(240, 320, 4)\n",
      "(240, 320, 4)\n",
      "(240, 320, 4)\n",
      "(240, 320, 4)\n",
      "(240, 320, 4)\n",
      "(240, 320, 4)\n",
      "(240, 320, 4)\n",
      "(240, 320, 4)\n",
      "(240, 320, 4)\n"
     ]
    },
    {
     "ename": "KeyboardInterrupt",
     "evalue": "",
     "output_type": "error",
     "traceback": [
      "\u001b[0;31m---------------------------------------------------------------------------\u001b[0m",
      "\u001b[0;31mKeyboardInterrupt\u001b[0m                         Traceback (most recent call last)",
      "\u001b[0;32m<ipython-input-48-20528fa7273f>\u001b[0m in \u001b[0;36m<module>\u001b[0;34m\u001b[0m\n\u001b[1;32m     19\u001b[0m                             \u001b[0mrr\u001b[0m \u001b[0;34m=\u001b[0m \u001b[0;34m[\u001b[0m\u001b[0;34m]\u001b[0m\u001b[0;34m\u001b[0m\u001b[0;34m\u001b[0m\u001b[0m\n\u001b[1;32m     20\u001b[0m                             \u001b[0;32mfor\u001b[0m \u001b[0my\u001b[0m \u001b[0;32min\u001b[0m \u001b[0mrange\u001b[0m\u001b[0;34m(\u001b[0m\u001b[0mlen\u001b[0m\u001b[0;34m(\u001b[0m\u001b[0mtemp\u001b[0m\u001b[0;34m[\u001b[0m\u001b[0mx\u001b[0m\u001b[0;34m]\u001b[0m\u001b[0;34m)\u001b[0m\u001b[0;34m)\u001b[0m\u001b[0;34m:\u001b[0m\u001b[0;34m\u001b[0m\u001b[0;34m\u001b[0m\u001b[0m\n\u001b[0;32m---> 21\u001b[0;31m                                 \u001b[0;32mif\u001b[0m \u001b[0mtemp\u001b[0m\u001b[0;34m[\u001b[0m\u001b[0mx\u001b[0m\u001b[0;34m,\u001b[0m \u001b[0my\u001b[0m\u001b[0;34m]\u001b[0m \u001b[0;34m>\u001b[0m\u001b[0;36m0.5\u001b[0m\u001b[0;34m:\u001b[0m\u001b[0;34m\u001b[0m\u001b[0;34m\u001b[0m\u001b[0m\n\u001b[0m\u001b[1;32m     22\u001b[0m                                     \u001b[0mpxl\u001b[0m \u001b[0;34m=\u001b[0m \u001b[0mimg\u001b[0m\u001b[0;34m[\u001b[0m\u001b[0mx\u001b[0m\u001b[0;34m,\u001b[0m \u001b[0my\u001b[0m\u001b[0;34m]\u001b[0m\u001b[0;34m\u001b[0m\u001b[0;34m\u001b[0m\u001b[0m\n\u001b[1;32m     23\u001b[0m                                     \u001b[0mrr\u001b[0m\u001b[0;34m.\u001b[0m\u001b[0mappend\u001b[0m\u001b[0;34m(\u001b[0m\u001b[0;34m(\u001b[0m\u001b[0mpxl\u001b[0m\u001b[0;34m[\u001b[0m\u001b[0;36m0\u001b[0m\u001b[0;34m]\u001b[0m\u001b[0;34m,\u001b[0m \u001b[0mpxl\u001b[0m\u001b[0;34m[\u001b[0m\u001b[0;36m1\u001b[0m\u001b[0;34m]\u001b[0m\u001b[0;34m,\u001b[0m \u001b[0mpxl\u001b[0m\u001b[0;34m[\u001b[0m\u001b[0;36m2\u001b[0m\u001b[0;34m]\u001b[0m\u001b[0;34m,\u001b[0m \u001b[0;36m1\u001b[0m\u001b[0;34m)\u001b[0m\u001b[0;34m)\u001b[0m\u001b[0;34m\u001b[0m\u001b[0;34m\u001b[0m\u001b[0m\n",
      "\u001b[0;31mKeyboardInterrupt\u001b[0m: "
     ]
    }
   ],
   "source": [
    "parsed_link = './Data/SPKT_LHU/Parsed/'\n",
    "for folder in os.listdir(parsed_link):\n",
    "    folder = parsed_link + folder + '/'\n",
    "    for file in os.listdir(folder):\n",
    "        if '.json' in file:\n",
    "            with open(folder + file, 'r') as json_file:\n",
    "                anno = json.loads(json_file.read())\n",
    "                for s in anno['shapes']:\n",
    "                    if int(s['label']) == 2:\n",
    "                        pts = []\n",
    "                        for p in s['points']:\n",
    "                            pts.append(np.array([np.array(p)]))\n",
    "                        pts = np.array(pts)\n",
    "                        temp = np.zeros((240, 320))\n",
    "                        cv2.drawContours(temp, [pts.astype('int')], 0, 1, -1)\n",
    "                        img = cv2.imread(folder + file[0:-5] + '.jpg')\n",
    "                        sign_img = []\n",
    "                        for x in range(len(temp)):\n",
    "                            rr = []\n",
    "                            for y in range(len(temp[x])):\n",
    "                                if temp[x, y] >0.5:\n",
    "                                    pxl = img[x, y]\n",
    "                                    rr.append((pxl[0], pxl[1], pxl[2], 1))\n",
    "                                else:\n",
    "                                    rr.append((0, 0, 0, 0))\n",
    "                            sign_img.append(rr)\n",
    "#                         cv2.imshow('sign', img)\n",
    "                        sign_img = np.array(sign_img)\n",
    "                        print(sign_img.shape)\n",
    "                        cv2.imwrite('./Data/SPKT_LHU/Sign/' + str(millis()) + '.png', sign_img)\n",
    "#                         if cv2.waitKey(1) & 0xFF == ord('q'):\n",
    "#                             break\n",
    "cv2.destroyAllWindows()"
   ]
  },
  {
   "cell_type": "code",
   "execution_count": null,
   "metadata": {},
   "outputs": [],
   "source": []
  }
 ],
 "metadata": {
  "kernelspec": {
   "display_name": "Python 3",
   "language": "python",
   "name": "python3"
  },
  "language_info": {
   "codemirror_mode": {
    "name": "ipython",
    "version": 3
   },
   "file_extension": ".py",
   "mimetype": "text/x-python",
   "name": "python",
   "nbconvert_exporter": "python",
   "pygments_lexer": "ipython3",
   "version": "3.6.9"
  }
 },
 "nbformat": 4,
 "nbformat_minor": 2
}
