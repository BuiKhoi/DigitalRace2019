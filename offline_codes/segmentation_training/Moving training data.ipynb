{
 "cells": [
  {
   "cell_type": "code",
   "execution_count": 2,
   "metadata": {},
   "outputs": [],
   "source": [
    "import os\n",
    "import numpy as np"
   ]
  },
  {
   "cell_type": "code",
   "execution_count": 4,
   "metadata": {},
   "outputs": [],
   "source": [
    "from_dir = './Data/Nhatrang/Training_data/val/'\n",
    "to_dir = './Data/SPKT_LHU/Training/val/'\n",
    "length = len([dirr for dirr in os.listdir(from_dir)])\n",
    "count = 0\n",
    "rands = np.random.randint(0, length, 700)\n",
    "rands = np.sort(np.unique(rands))\n",
    "for dirr in os.listdir(from_dir):\n",
    "    count += 1\n",
    "    if count in rands:\n",
    "        os.rename(from_dir + dirr, to_dir + dirr)"
   ]
  },
  {
   "cell_type": "code",
   "execution_count": 24,
   "metadata": {},
   "outputs": [
    {
     "data": {
      "text/plain": [
       "38723"
      ]
     },
     "execution_count": 24,
     "metadata": {},
     "output_type": "execute_result"
    }
   ],
   "source": [
    "length = len([dirr for dirr in os.listdir(from_dir)])\n",
    "length"
   ]
  },
  {
   "cell_type": "code",
   "execution_count": null,
   "metadata": {},
   "outputs": [],
   "source": []
  }
 ],
 "metadata": {
  "kernelspec": {
   "display_name": "Python 3",
   "language": "python",
   "name": "python3"
  },
  "language_info": {
   "codemirror_mode": {
    "name": "ipython",
    "version": 3
   },
   "file_extension": ".py",
   "mimetype": "text/x-python",
   "name": "python",
   "nbconvert_exporter": "python",
   "pygments_lexer": "ipython3",
   "version": "3.6.9"
  }
 },
 "nbformat": 4,
 "nbformat_minor": 2
}
