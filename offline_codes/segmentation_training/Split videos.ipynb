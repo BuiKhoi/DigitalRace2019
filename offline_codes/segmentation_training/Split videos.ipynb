{
 "cells": [
  {
   "cell_type": "code",
   "execution_count": 1,
   "metadata": {},
   "outputs": [],
   "source": [
    "import cv2\n",
    "import numpy as np\n",
    "import os\n",
    "import time\n",
    "from shutil import copyfile"
   ]
  },
  {
   "cell_type": "code",
   "execution_count": 4,
   "metadata": {},
   "outputs": [],
   "source": [
    "def millis():\n",
    "    return int(round(time.time() * 1000))"
   ]
  },
  {
   "cell_type": "code",
   "execution_count": 5,
   "metadata": {},
   "outputs": [
    {
     "name": "stdout",
     "output_type": "stream",
     "text": [
      "Total images: 4067\n"
     ]
    }
   ],
   "source": [
    "video_place = './Data/Backgrounds/Videos/'\n",
    "pictures_place = './Data/Backgrounds/Pics/'\n",
    "count = 0\n",
    "for vid in os.listdir(video_place):\n",
    "    if '.mp4' in vid:\n",
    "        cap = cv2.VideoCapture(video_place + vid)\n",
    "        while cap.isOpened():\n",
    "            ret, frame = cap.read()\n",
    "            if count%7 != 0:\n",
    "                count += 1\n",
    "                continue\n",
    "            if ret:\n",
    "                cv2.imshow('frame', frame)\n",
    "                frame = cv2.resize(frame, (320, 240))\n",
    "                cv2.imwrite(pictures_place + str(millis()) + '.jpg', frame)\n",
    "                if cv2.waitKey(1) & 0xFF == ord('q'):\n",
    "                    break\n",
    "                count += 1\n",
    "            else:\n",
    "                break\n",
    "cv2.destroyAllWindows()\n",
    "print('Total images: {}'.format(count))"
   ]
  },
  {
   "cell_type": "code",
   "execution_count": 30,
   "metadata": {},
   "outputs": [],
   "source": [
    "pics_dir = './Data/SPKT_LHU/Raw/'\n",
    "for f in range(1, 9):\n",
    "    out_folder = pics_dir + str(f) + '/'\n",
    "    pics = []\n",
    "    for pic in os.listdir(pics_dir):\n",
    "        if '.jpg' in pic:\n",
    "            pics.append(pic)\n",
    "    for j in range(100):\n",
    "        rand = np.random.randint(len(pics))\n",
    "        img = pics[rand]\n",
    "        copyfile(pics_dir + img, out_folder + img)\n",
    "        pics.remove(img)"
   ]
  },
  {
   "cell_type": "code",
   "execution_count": null,
   "metadata": {},
   "outputs": [],
   "source": []
  }
 ],
 "metadata": {
  "kernelspec": {
   "display_name": "Python 3",
   "language": "python",
   "name": "python3"
  },
  "language_info": {
   "codemirror_mode": {
    "name": "ipython",
    "version": 3
   },
   "file_extension": ".py",
   "mimetype": "text/x-python",
   "name": "python",
   "nbconvert_exporter": "python",
   "pygments_lexer": "ipython3",
   "version": "3.6.9"
  }
 },
 "nbformat": 4,
 "nbformat_minor": 2
}
