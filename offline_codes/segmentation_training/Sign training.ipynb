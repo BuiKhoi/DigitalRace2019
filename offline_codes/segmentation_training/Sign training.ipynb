{
 "cells": [
  {
   "cell_type": "code",
   "execution_count": 1,
   "metadata": {},
   "outputs": [
    {
     "name": "stderr",
     "output_type": "stream",
     "text": [
      "Using TensorFlow backend.\n",
      "/home/buikhoi/.local/lib/python3.6/site-packages/tensorflow/python/framework/dtypes.py:516: FutureWarning: Passing (type, 1) or '1type' as a synonym of type is deprecated; in a future version of numpy, it will be understood as (type, (1,)) / '(1,)type'.\n",
      "  _np_qint8 = np.dtype([(\"qint8\", np.int8, 1)])\n",
      "/home/buikhoi/.local/lib/python3.6/site-packages/tensorflow/python/framework/dtypes.py:517: FutureWarning: Passing (type, 1) or '1type' as a synonym of type is deprecated; in a future version of numpy, it will be understood as (type, (1,)) / '(1,)type'.\n",
      "  _np_quint8 = np.dtype([(\"quint8\", np.uint8, 1)])\n",
      "/home/buikhoi/.local/lib/python3.6/site-packages/tensorflow/python/framework/dtypes.py:518: FutureWarning: Passing (type, 1) or '1type' as a synonym of type is deprecated; in a future version of numpy, it will be understood as (type, (1,)) / '(1,)type'.\n",
      "  _np_qint16 = np.dtype([(\"qint16\", np.int16, 1)])\n",
      "/home/buikhoi/.local/lib/python3.6/site-packages/tensorflow/python/framework/dtypes.py:519: FutureWarning: Passing (type, 1) or '1type' as a synonym of type is deprecated; in a future version of numpy, it will be understood as (type, (1,)) / '(1,)type'.\n",
      "  _np_quint16 = np.dtype([(\"quint16\", np.uint16, 1)])\n",
      "/home/buikhoi/.local/lib/python3.6/site-packages/tensorflow/python/framework/dtypes.py:520: FutureWarning: Passing (type, 1) or '1type' as a synonym of type is deprecated; in a future version of numpy, it will be understood as (type, (1,)) / '(1,)type'.\n",
      "  _np_qint32 = np.dtype([(\"qint32\", np.int32, 1)])\n",
      "/home/buikhoi/.local/lib/python3.6/site-packages/tensorflow/python/framework/dtypes.py:525: FutureWarning: Passing (type, 1) or '1type' as a synonym of type is deprecated; in a future version of numpy, it will be understood as (type, (1,)) / '(1,)type'.\n",
      "  np_resource = np.dtype([(\"resource\", np.ubyte, 1)])\n",
      "/home/buikhoi/.local/lib/python3.6/site-packages/tensorboard/compat/tensorflow_stub/dtypes.py:541: FutureWarning: Passing (type, 1) or '1type' as a synonym of type is deprecated; in a future version of numpy, it will be understood as (type, (1,)) / '(1,)type'.\n",
      "  _np_qint8 = np.dtype([(\"qint8\", np.int8, 1)])\n",
      "/home/buikhoi/.local/lib/python3.6/site-packages/tensorboard/compat/tensorflow_stub/dtypes.py:542: FutureWarning: Passing (type, 1) or '1type' as a synonym of type is deprecated; in a future version of numpy, it will be understood as (type, (1,)) / '(1,)type'.\n",
      "  _np_quint8 = np.dtype([(\"quint8\", np.uint8, 1)])\n",
      "/home/buikhoi/.local/lib/python3.6/site-packages/tensorboard/compat/tensorflow_stub/dtypes.py:543: FutureWarning: Passing (type, 1) or '1type' as a synonym of type is deprecated; in a future version of numpy, it will be understood as (type, (1,)) / '(1,)type'.\n",
      "  _np_qint16 = np.dtype([(\"qint16\", np.int16, 1)])\n",
      "/home/buikhoi/.local/lib/python3.6/site-packages/tensorboard/compat/tensorflow_stub/dtypes.py:544: FutureWarning: Passing (type, 1) or '1type' as a synonym of type is deprecated; in a future version of numpy, it will be understood as (type, (1,)) / '(1,)type'.\n",
      "  _np_quint16 = np.dtype([(\"quint16\", np.uint16, 1)])\n",
      "/home/buikhoi/.local/lib/python3.6/site-packages/tensorboard/compat/tensorflow_stub/dtypes.py:545: FutureWarning: Passing (type, 1) or '1type' as a synonym of type is deprecated; in a future version of numpy, it will be understood as (type, (1,)) / '(1,)type'.\n",
      "  _np_qint32 = np.dtype([(\"qint32\", np.int32, 1)])\n",
      "/home/buikhoi/.local/lib/python3.6/site-packages/tensorboard/compat/tensorflow_stub/dtypes.py:550: FutureWarning: Passing (type, 1) or '1type' as a synonym of type is deprecated; in a future version of numpy, it will be understood as (type, (1,)) / '(1,)type'.\n",
      "  np_resource = np.dtype([(\"resource\", np.ubyte, 1)])\n"
     ]
    }
   ],
   "source": [
    "import os\n",
    "import gc\n",
    "import cv2\n",
    "import json\n",
    "import time\n",
    "import numpy as np\n",
    "import matplotlib.pyplot as plt\n",
    "from sklearn.model_selection import train_test_split\n",
    "\n",
    "os.environ['TF_CPP_MIN_LOG_LEVEL'] = '3' \n",
    "# import tensorflow.python.util.deprecation as deprecation\n",
    "# deprecation._PRINT_DEPRECATION_WARNINGS = False\n",
    "import keras\n",
    "import keras.backend as K\n",
    "from keras.layers import Conv2D, MaxPool2D, Dropout, UpSampling2D, Input, Lambda, Flatten, Dense\n",
    "from keras.models import *\n",
    "from keras import optimizers\n",
    "from keras.layers.merge import concatenate\n",
    "from keras.callbacks import *"
   ]
  },
  {
   "cell_type": "code",
   "execution_count": 2,
   "metadata": {},
   "outputs": [],
   "source": [
    "#Grab training data"
   ]
  },
  {
   "cell_type": "code",
   "execution_count": 2,
   "metadata": {},
   "outputs": [],
   "source": [
    "left_link = './sign_validate/ReTrai/'\n",
    "right_link = './sign_validate/RePhai/'\n",
    "other_link = './sign_validate/Other/'"
   ]
  },
  {
   "cell_type": "code",
   "execution_count": 4,
   "metadata": {},
   "outputs": [
    {
     "name": "stdout",
     "output_type": "stream",
     "text": [
      "(44, 64, 64, 3)\n",
      "(44, 3)\n"
     ]
    }
   ],
   "source": [
    "X_data = []\n",
    "y_true = []\n",
    "for left in os.listdir(left_link):\n",
    "    img = cv2.imread(left_link + left)\n",
    "    img = cv2.resize(img, (64, 64))\n",
    "    img = cv2.cvtColor(img, cv2.COLOR_BGR2RGB)\n",
    "    X_data.append(img)\n",
    "    y_true.append([0.0, 0.0, 1.0])\n",
    "    \n",
    "for right in os.listdir(right_link):\n",
    "    img = cv2.imread(right_link + right)\n",
    "    img = cv2.resize(img, (64, 64))\n",
    "    img = cv2.cvtColor(img, cv2.COLOR_BGR2RGB)\n",
    "    X_data.append(img)\n",
    "    y_true.append([0.0, 1.0, 0.0])\n",
    "    \n",
    "for other in os.listdir(other_link):\n",
    "    img = cv2.imread(other_link + other)\n",
    "    img = cv2.resize(img, (64, 64))\n",
    "    img = cv2.cvtColor(img, cv2.COLOR_BGR2RGB)\n",
    "    X_data.append(img)\n",
    "    y_true.append([1.0, 0.0, 0.0])\n",
    "    \n",
    "X_test = np.array(X_data)\n",
    "y_test = np.array(y_true)\n",
    "print(X_test.shape)\n",
    "print(y_test.shape)"
   ]
  },
  {
   "cell_type": "code",
   "execution_count": 5,
   "metadata": {},
   "outputs": [],
   "source": [
    "# X_train, X_test, y_train, y_test = train_test_split(X_data, y_true)"
   ]
  },
  {
   "cell_type": "code",
   "execution_count": 6,
   "metadata": {},
   "outputs": [],
   "source": [
    "# print(X_train.shape)\n",
    "# print(X_test.shape)"
   ]
  },
  {
   "cell_type": "code",
   "execution_count": 37,
   "metadata": {},
   "outputs": [],
   "source": [
    "model = Sequential()\n",
    "\n",
    "model.add(Conv2D(16, 3, activation = 'relu', input_shape= (64, 64, 3)))\n",
    "model.add(MaxPool2D((2, 2), (2, 2)))\n",
    "model.add(Conv2D(32, 3, activation = 'relu'))\n",
    "model.add(MaxPool2D((2, 2), (2, 2)))\n",
    "model.add(Conv2D(64, 3, activation = 'relu'))\n",
    "model.add(MaxPool2D((2, 2), (2, 2)))\n",
    "\n",
    "model.add(Flatten())\n",
    "\n",
    "model.add(Dense(128, activation='relu'))\n",
    "# model.add(Dropout(0.3))\n",
    "model.add(Dense(512, activation='relu'))\n",
    "# model.add(Dropout(0.3))\n",
    "model.add(Dense(3, activation='softmax'))"
   ]
  },
  {
   "cell_type": "code",
   "execution_count": 26,
   "metadata": {},
   "outputs": [
    {
     "name": "stdout",
     "output_type": "stream",
     "text": [
      "Model: \"sequential_4\"\n",
      "_________________________________________________________________\n",
      "Layer (type)                 Output Shape              Param #   \n",
      "=================================================================\n",
      "conv2d_10 (Conv2D)           (None, 62, 62, 16)        448       \n",
      "_________________________________________________________________\n",
      "max_pooling2d_10 (MaxPooling (None, 31, 31, 16)        0         \n",
      "_________________________________________________________________\n",
      "conv2d_11 (Conv2D)           (None, 29, 29, 32)        4640      \n",
      "_________________________________________________________________\n",
      "max_pooling2d_11 (MaxPooling (None, 14, 14, 32)        0         \n",
      "_________________________________________________________________\n",
      "conv2d_12 (Conv2D)           (None, 12, 12, 64)        18496     \n",
      "_________________________________________________________________\n",
      "max_pooling2d_12 (MaxPooling (None, 6, 6, 64)          0         \n",
      "_________________________________________________________________\n",
      "flatten_4 (Flatten)          (None, 2304)              0         \n",
      "_________________________________________________________________\n",
      "dense_10 (Dense)             (None, 128)               295040    \n",
      "_________________________________________________________________\n",
      "dropout_3 (Dropout)          (None, 128)               0         \n",
      "_________________________________________________________________\n",
      "dense_11 (Dense)             (None, 512)               66048     \n",
      "_________________________________________________________________\n",
      "dropout_4 (Dropout)          (None, 512)               0         \n",
      "_________________________________________________________________\n",
      "dense_12 (Dense)             (None, 3)                 1539      \n",
      "=================================================================\n",
      "Total params: 386,211\n",
      "Trainable params: 386,211\n",
      "Non-trainable params: 0\n",
      "_________________________________________________________________\n"
     ]
    }
   ],
   "source": [
    "model.summary()"
   ]
  },
  {
   "cell_type": "code",
   "execution_count": 27,
   "metadata": {},
   "outputs": [],
   "source": [
    "adam = optimizers.Adam(0.0001, 0.9, 0.99)\n",
    "model.compile(adam, 'categorical_crossentropy', ['accuracy'])"
   ]
  },
  {
   "cell_type": "code",
   "execution_count": 28,
   "metadata": {},
   "outputs": [],
   "source": [
    "reduce_lr = callbacks.ReduceLROnPlateau(monitor='accuracy', factor=0.2, patience=3, min_lr=0.0001)"
   ]
  },
  {
   "cell_type": "code",
   "execution_count": 29,
   "metadata": {},
   "outputs": [],
   "source": [
    "train_datagen = keras.preprocessing.image.ImageDataGenerator(rotation_range=10)"
   ]
  },
  {
   "cell_type": "code",
   "execution_count": 30,
   "metadata": {},
   "outputs": [
    {
     "name": "stdout",
     "output_type": "stream",
     "text": [
      "Found 630 images belonging to 3 classes.\n"
     ]
    }
   ],
   "source": [
    "train_datagen = train_datagen.flow_from_directory('./sign/', (64, 64), class_mode='categorical', batch_size=16, color_mode='rgb')"
   ]
  },
  {
   "cell_type": "code",
   "execution_count": null,
   "metadata": {},
   "outputs": [],
   "source": []
  },
  {
   "cell_type": "code",
   "execution_count": 14,
   "metadata": {},
   "outputs": [
    {
     "name": "stdout",
     "output_type": "stream",
     "text": [
      "[0. 1. 0.]\n"
     ]
    },
    {
     "data": {
      "image/png": "[encoded data removed]",
      "text/plain": [
       "<Figure size 432x288 with 1 Axes>"
      ]
     },
     "metadata": {
      "needs_background": "light"
     },
     "output_type": "display_data"
    }
   ],
   "source": [
    "n = train_datagen.next()\n",
    "X = n[0][0]\n",
    "y = n[1][0]\n",
    "# plt.imshow(X.astype('int'))\n",
    "plt.imshow(X.astype('int'))\n",
    "print(y)"
   ]
  },
  {
   "cell_type": "code",
   "execution_count": 31,
   "metadata": {
    "scrolled": true
   },
   "outputs": [
    {
     "name": "stdout",
     "output_type": "stream",
     "text": [
      "Epoch 1/150\n",
      "100/100 [==============================] - 2s 23ms/step - loss: 2.8243 - accuracy: 0.7497 - val_loss: 0.7182 - val_accuracy: 0.7500\n",
      "Epoch 2/150\n",
      "100/100 [==============================] - 2s 23ms/step - loss: 0.3193 - accuracy: 0.9133 - val_loss: 0.5700 - val_accuracy: 0.8409\n",
      "Epoch 3/150\n",
      "100/100 [==============================] - 2s 24ms/step - loss: 0.2659 - accuracy: 0.9114 - val_loss: 0.7586 - val_accuracy: 0.5909\n",
      "Epoch 4/150\n",
      "100/100 [==============================] - 2s 23ms/step - loss: 0.2024 - accuracy: 0.9344 - val_loss: 0.5842 - val_accuracy: 0.8182\n",
      "Epoch 5/150\n",
      "100/100 [==============================] - 2s 24ms/step - loss: 0.1716 - accuracy: 0.9373 - val_loss: 0.5321 - val_accuracy: 0.8409\n",
      "Epoch 6/150\n",
      "100/100 [==============================] - 2s 23ms/step - loss: 0.1100 - accuracy: 0.9605 - val_loss: 0.6716 - val_accuracy: 0.7727\n",
      "Epoch 7/150\n",
      "100/100 [==============================] - 2s 24ms/step - loss: 0.1118 - accuracy: 0.9561 - val_loss: 0.4579 - val_accuracy: 0.8409\n",
      "Epoch 8/150\n",
      "100/100 [==============================] - 2s 23ms/step - loss: 0.0874 - accuracy: 0.9696 - val_loss: 0.4256 - val_accuracy: 0.8864\n",
      "Epoch 9/150\n",
      "100/100 [==============================] - 2s 24ms/step - loss: 0.0804 - accuracy: 0.9690 - val_loss: 0.9153 - val_accuracy: 0.8182\n",
      "Epoch 10/150\n",
      "100/100 [==============================] - 2s 23ms/step - loss: 0.0916 - accuracy: 0.9675 - val_loss: 0.6751 - val_accuracy: 0.8409\n",
      "Epoch 11/150\n",
      "100/100 [==============================] - 2s 24ms/step - loss: 0.0454 - accuracy: 0.9892 - val_loss: 0.4512 - val_accuracy: 0.8182\n",
      "Epoch 12/150\n",
      "100/100 [==============================] - 2s 23ms/step - loss: 0.0402 - accuracy: 0.9835 - val_loss: 0.4286 - val_accuracy: 0.9318\n",
      "Epoch 13/150\n",
      "100/100 [==============================] - 2s 24ms/step - loss: 0.0321 - accuracy: 0.9880 - val_loss: 0.5403 - val_accuracy: 0.8864\n",
      "Epoch 14/150\n",
      "100/100 [==============================] - 2s 23ms/step - loss: 0.0243 - accuracy: 0.9911 - val_loss: 0.7186 - val_accuracy: 0.8182\n",
      "Epoch 15/150\n",
      "100/100 [==============================] - 2s 24ms/step - loss: 0.0566 - accuracy: 0.9828 - val_loss: 0.4563 - val_accuracy: 0.8864\n",
      "Epoch 16/150\n",
      "100/100 [==============================] - 2s 23ms/step - loss: 0.0230 - accuracy: 0.9943 - val_loss: 0.8083 - val_accuracy: 0.7955\n",
      "Epoch 17/150\n",
      "100/100 [==============================] - 2s 24ms/step - loss: 0.0309 - accuracy: 0.9899 - val_loss: 0.7554 - val_accuracy: 0.8409\n",
      "Epoch 18/150\n",
      "100/100 [==============================] - 2s 23ms/step - loss: 0.0135 - accuracy: 0.9955 - val_loss: 0.6002 - val_accuracy: 0.8636\n",
      "Epoch 19/150\n",
      "100/100 [==============================] - 2s 23ms/step - loss: 0.0232 - accuracy: 0.9898 - val_loss: 0.3407 - val_accuracy: 0.8636\n",
      "Epoch 20/150\n",
      "100/100 [==============================] - 2s 23ms/step - loss: 0.0367 - accuracy: 0.9911 - val_loss: 0.7962 - val_accuracy: 0.8409\n",
      "Epoch 21/150\n",
      "100/100 [==============================] - 2s 24ms/step - loss: 0.0132 - accuracy: 0.9943 - val_loss: 0.6544 - val_accuracy: 0.8409\n",
      "Epoch 22/150\n",
      "100/100 [==============================] - 2s 23ms/step - loss: 0.0066 - accuracy: 0.9975 - val_loss: 0.6201 - val_accuracy: 0.8636\n",
      "Epoch 23/150\n",
      "100/100 [==============================] - 2s 24ms/step - loss: 0.0073 - accuracy: 0.9987 - val_loss: 0.5952 - val_accuracy: 0.8864\n",
      "Epoch 24/150\n",
      "100/100 [==============================] - 2s 23ms/step - loss: 0.0034 - accuracy: 0.9987 - val_loss: 0.9942 - val_accuracy: 0.8636\n",
      "Epoch 25/150\n",
      "100/100 [==============================] - 2s 24ms/step - loss: 0.0402 - accuracy: 0.9899 - val_loss: 0.5452 - val_accuracy: 0.8864\n",
      "Epoch 26/150\n",
      "100/100 [==============================] - 2s 23ms/step - loss: 0.0157 - accuracy: 0.9955 - val_loss: 0.6931 - val_accuracy: 0.8636\n",
      "Epoch 27/150\n",
      "100/100 [==============================] - 2s 24ms/step - loss: 0.0061 - accuracy: 0.9975 - val_loss: 0.5865 - val_accuracy: 0.9091\n",
      "Epoch 28/150\n",
      "100/100 [==============================] - 2s 23ms/step - loss: 0.0076 - accuracy: 0.9975 - val_loss: 0.5633 - val_accuracy: 0.9091\n",
      "Epoch 29/150\n",
      "100/100 [==============================] - 2s 24ms/step - loss: 0.0044 - accuracy: 0.9981 - val_loss: 0.6689 - val_accuracy: 0.9091\n",
      "Epoch 30/150\n",
      "100/100 [==============================] - 2s 23ms/step - loss: 0.0086 - accuracy: 0.9975 - val_loss: 0.8349 - val_accuracy: 0.8409\n",
      "Epoch 31/150\n",
      "100/100 [==============================] - 2s 24ms/step - loss: 0.0141 - accuracy: 0.9962 - val_loss: 0.9091 - val_accuracy: 0.8864\n",
      "Epoch 32/150\n",
      "100/100 [==============================] - 2s 23ms/step - loss: 0.0075 - accuracy: 0.9956 - val_loss: 0.3563 - val_accuracy: 0.8864\n",
      "Epoch 33/150\n",
      "100/100 [==============================] - 2s 24ms/step - loss: 0.0064 - accuracy: 0.9981 - val_loss: 0.7064 - val_accuracy: 0.8636\n",
      "Epoch 34/150\n",
      "100/100 [==============================] - 2s 23ms/step - loss: 0.0214 - accuracy: 0.9955 - val_loss: 1.0307 - val_accuracy: 0.8182\n",
      "Epoch 35/150\n",
      "100/100 [==============================] - 2s 23ms/step - loss: 0.0097 - accuracy: 0.9962 - val_loss: 0.5813 - val_accuracy: 0.8864\n",
      "Epoch 36/150\n",
      "100/100 [==============================] - 2s 23ms/step - loss: 0.0021 - accuracy: 0.9994 - val_loss: 0.4905 - val_accuracy: 0.9091\n",
      "Epoch 37/150\n",
      "100/100 [==============================] - 2s 24ms/step - loss: 0.0020 - accuracy: 0.9994 - val_loss: 0.7104 - val_accuracy: 0.9318\n",
      "Epoch 38/150\n",
      "100/100 [==============================] - 2s 23ms/step - loss: 0.0020 - accuracy: 0.9994 - val_loss: 1.1361 - val_accuracy: 0.8864\n",
      "Epoch 39/150\n",
      "100/100 [==============================] - 3s 30ms/step - loss: 0.0052 - accuracy: 0.9975 - val_loss: 0.6370 - val_accuracy: 0.9091\n",
      "Epoch 40/150\n",
      "100/100 [==============================] - 2s 23ms/step - loss: 0.0047 - accuracy: 0.9981 - val_loss: 0.7106 - val_accuracy: 0.8409\n",
      "Epoch 41/150\n",
      "100/100 [==============================] - 2s 24ms/step - loss: 0.0123 - accuracy: 0.9956 - val_loss: 0.9192 - val_accuracy: 0.8864\n",
      "Epoch 42/150\n",
      "100/100 [==============================] - 2s 23ms/step - loss: 8.3300e-04 - accuracy: 0.9994 - val_loss: 0.5703 - val_accuracy: 0.9545\n",
      "Epoch 43/150\n",
      "100/100 [==============================] - 2s 24ms/step - loss: 7.1195e-04 - accuracy: 1.0000 - val_loss: 0.4744 - val_accuracy: 0.9091\n",
      "Epoch 44/150\n",
      "100/100 [==============================] - 2s 23ms/step - loss: 0.0037 - accuracy: 0.9987 - val_loss: 0.6045 - val_accuracy: 0.8636\n",
      "Epoch 45/150\n",
      "100/100 [==============================] - 2s 23ms/step - loss: 0.0075 - accuracy: 0.9955 - val_loss: 0.4825 - val_accuracy: 0.8636\n",
      "Epoch 46/150\n",
      "100/100 [==============================] - 2s 23ms/step - loss: 0.0033 - accuracy: 0.9994 - val_loss: 0.8580 - val_accuracy: 0.9091\n",
      "Epoch 47/150\n",
      "100/100 [==============================] - 2s 24ms/step - loss: 0.0092 - accuracy: 0.9981 - val_loss: 0.5203 - val_accuracy: 0.9318\n",
      "Epoch 48/150\n",
      "100/100 [==============================] - 2s 23ms/step - loss: 0.0042 - accuracy: 0.9981 - val_loss: 0.9815 - val_accuracy: 0.8864\n",
      "Epoch 49/150\n",
      "100/100 [==============================] - 2s 24ms/step - loss: 0.0059 - accuracy: 0.9981 - val_loss: 0.7105 - val_accuracy: 0.8636\n",
      "Epoch 50/150\n",
      "100/100 [==============================] - 2s 23ms/step - loss: 5.0080e-04 - accuracy: 1.0000 - val_loss: 0.9395 - val_accuracy: 0.8636\n",
      "Epoch 51/150\n",
      "100/100 [==============================] - 2s 24ms/step - loss: 0.0128 - accuracy: 0.9968 - val_loss: 0.6202 - val_accuracy: 0.8864\n",
      "Epoch 52/150\n",
      "100/100 [==============================] - 2s 23ms/step - loss: 0.0056 - accuracy: 0.9975 - val_loss: 0.4121 - val_accuracy: 0.9318\n",
      "Epoch 53/150\n",
      "100/100 [==============================] - 2s 23ms/step - loss: 9.8238e-04 - accuracy: 1.0000 - val_loss: 0.7881 - val_accuracy: 0.8636\n",
      "Epoch 54/150\n",
      "100/100 [==============================] - 2s 23ms/step - loss: 4.3225e-04 - accuracy: 1.0000 - val_loss: 0.9360 - val_accuracy: 0.8864\n",
      "Epoch 55/150\n",
      "100/100 [==============================] - 2s 24ms/step - loss: 5.9867e-04 - accuracy: 1.0000 - val_loss: 0.6215 - val_accuracy: 0.9091\n",
      "Epoch 56/150\n",
      "100/100 [==============================] - 2s 23ms/step - loss: 4.9679e-04 - accuracy: 1.0000 - val_loss: 0.9264 - val_accuracy: 0.8864\n",
      "Epoch 57/150\n"
     ]
    },
    {
     "name": "stdout",
     "output_type": "stream",
     "text": [
      "100/100 [==============================] - 2s 24ms/step - loss: 1.2232e-04 - accuracy: 1.0000 - val_loss: 0.9270 - val_accuracy: 0.9091\n",
      "Epoch 58/150\n",
      "100/100 [==============================] - 2s 23ms/step - loss: 3.1712e-05 - accuracy: 1.0000 - val_loss: 1.0186 - val_accuracy: 0.8864\n",
      "Epoch 59/150\n",
      "100/100 [==============================] - 2s 24ms/step - loss: 0.0011 - accuracy: 0.9994 - val_loss: 0.7479 - val_accuracy: 0.9318\n",
      "Epoch 60/150\n",
      "100/100 [==============================] - 2s 23ms/step - loss: 0.0094 - accuracy: 0.9981 - val_loss: 1.3827 - val_accuracy: 0.9091\n",
      "Epoch 61/150\n",
      "100/100 [==============================] - 2s 23ms/step - loss: 0.0027 - accuracy: 0.9987 - val_loss: 0.8226 - val_accuracy: 0.9091\n",
      "Epoch 62/150\n",
      "100/100 [==============================] - 2s 23ms/step - loss: 1.3725e-04 - accuracy: 1.0000 - val_loss: 1.0398 - val_accuracy: 0.8636\n",
      "Epoch 63/150\n",
      "100/100 [==============================] - 2s 24ms/step - loss: 0.0040 - accuracy: 0.9994 - val_loss: 0.9231 - val_accuracy: 0.8864\n",
      "Epoch 64/150\n",
      "100/100 [==============================] - 2s 23ms/step - loss: 0.0192 - accuracy: 0.9962 - val_loss: 0.8737 - val_accuracy: 0.8864\n",
      "Epoch 65/150\n",
      "100/100 [==============================] - 2s 24ms/step - loss: 2.8767e-04 - accuracy: 1.0000 - val_loss: 0.6563 - val_accuracy: 0.9091\n",
      "Epoch 66/150\n",
      "100/100 [==============================] - 2s 23ms/step - loss: 0.0020 - accuracy: 0.9994 - val_loss: 0.9489 - val_accuracy: 0.8864\n",
      "Epoch 67/150\n",
      "100/100 [==============================] - 2s 24ms/step - loss: 5.4664e-04 - accuracy: 1.0000 - val_loss: 0.6301 - val_accuracy: 0.8864\n",
      "Epoch 68/150\n",
      "100/100 [==============================] - 2s 23ms/step - loss: 4.2890e-04 - accuracy: 1.0000 - val_loss: 0.7965 - val_accuracy: 0.8864\n",
      "Epoch 69/150\n",
      "100/100 [==============================] - 2s 24ms/step - loss: 7.1184e-04 - accuracy: 1.0000 - val_loss: 0.7132 - val_accuracy: 0.9545\n",
      "Epoch 70/150\n",
      "100/100 [==============================] - 2s 23ms/step - loss: 5.4912e-04 - accuracy: 1.0000 - val_loss: 1.5801 - val_accuracy: 0.8182\n",
      "Epoch 71/150\n",
      "100/100 [==============================] - 2s 24ms/step - loss: 2.7539e-04 - accuracy: 1.0000 - val_loss: 1.9134 - val_accuracy: 0.8864\n",
      "Epoch 72/150\n",
      "100/100 [==============================] - 2s 23ms/step - loss: 0.0105 - accuracy: 0.9987 - val_loss: 0.8647 - val_accuracy: 0.8636\n",
      "Epoch 73/150\n",
      "100/100 [==============================] - 2s 24ms/step - loss: 1.8383e-04 - accuracy: 1.0000 - val_loss: 0.8534 - val_accuracy: 0.9318\n",
      "Epoch 74/150\n",
      "100/100 [==============================] - 2s 23ms/step - loss: 2.7232e-04 - accuracy: 1.0000 - val_loss: 1.2273 - val_accuracy: 0.8636\n",
      "Epoch 75/150\n",
      "100/100 [==============================] - 2s 24ms/step - loss: 2.5311e-04 - accuracy: 1.0000 - val_loss: 1.6838 - val_accuracy: 0.9091\n",
      "Epoch 76/150\n",
      "100/100 [==============================] - 2s 23ms/step - loss: 0.0066 - accuracy: 0.9975 - val_loss: 1.3130 - val_accuracy: 0.8864\n",
      "Epoch 77/150\n",
      "100/100 [==============================] - 2s 24ms/step - loss: 1.5843e-04 - accuracy: 1.0000 - val_loss: 1.5660 - val_accuracy: 0.9091\n",
      "Epoch 78/150\n",
      "100/100 [==============================] - 2s 23ms/step - loss: 8.4160e-04 - accuracy: 0.9994 - val_loss: 1.3049 - val_accuracy: 0.9091\n",
      "Epoch 79/150\n",
      "100/100 [==============================] - 2s 24ms/step - loss: 0.0010 - accuracy: 0.9994 - val_loss: 1.0234 - val_accuracy: 0.9318\n",
      "Epoch 80/150\n",
      "100/100 [==============================] - 2s 23ms/step - loss: 9.8171e-05 - accuracy: 1.0000 - val_loss: 1.2878 - val_accuracy: 0.9091\n",
      "Epoch 81/150\n",
      "100/100 [==============================] - 2s 24ms/step - loss: 3.7051e-05 - accuracy: 1.0000 - val_loss: 1.5260 - val_accuracy: 0.9091\n",
      "Epoch 82/150\n",
      "100/100 [==============================] - 2s 23ms/step - loss: 6.0255e-06 - accuracy: 1.0000 - val_loss: 1.4260 - val_accuracy: 0.9091\n",
      "Epoch 83/150\n",
      "100/100 [==============================] - 2s 24ms/step - loss: 0.0176 - accuracy: 0.9987 - val_loss: 1.2422 - val_accuracy: 0.9091\n",
      "Epoch 84/150\n",
      "100/100 [==============================] - 2s 23ms/step - loss: 0.0128 - accuracy: 0.9981 - val_loss: 0.8696 - val_accuracy: 0.8864\n",
      "Epoch 85/150\n",
      "100/100 [==============================] - 2s 24ms/step - loss: 0.0104 - accuracy: 0.9987 - val_loss: 1.4498 - val_accuracy: 0.8409\n",
      "Epoch 86/150\n",
      "100/100 [==============================] - 2s 23ms/step - loss: 0.0059 - accuracy: 0.9981 - val_loss: 0.7653 - val_accuracy: 0.8636\n",
      "Epoch 87/150\n",
      "100/100 [==============================] - 2s 24ms/step - loss: 1.2674e-04 - accuracy: 1.0000 - val_loss: 1.2929 - val_accuracy: 0.8409\n",
      "Epoch 88/150\n",
      "100/100 [==============================] - 2s 23ms/step - loss: 4.8677e-05 - accuracy: 1.0000 - val_loss: 1.0836 - val_accuracy: 0.8409\n",
      "Epoch 89/150\n",
      "100/100 [==============================] - 2s 24ms/step - loss: 1.5474e-05 - accuracy: 1.0000 - val_loss: 1.0658 - val_accuracy: 0.8864\n",
      "Epoch 90/150\n",
      "100/100 [==============================] - 3s 29ms/step - loss: 3.1647e-06 - accuracy: 1.0000 - val_loss: 1.0241 - val_accuracy: 0.8864\n",
      "Epoch 91/150\n",
      "100/100 [==============================] - 2s 24ms/step - loss: 1.2245e-05 - accuracy: 1.0000 - val_loss: 0.9208 - val_accuracy: 0.8864\n",
      "Epoch 92/150\n",
      "100/100 [==============================] - 2s 23ms/step - loss: 6.3523e-05 - accuracy: 1.0000 - val_loss: 1.0280 - val_accuracy: 0.9091\n",
      "Epoch 93/150\n",
      "100/100 [==============================] - 2s 24ms/step - loss: 0.0141 - accuracy: 0.9975 - val_loss: 0.7799 - val_accuracy: 0.9318\n",
      "Epoch 94/150\n",
      "100/100 [==============================] - 2s 23ms/step - loss: 5.0696e-04 - accuracy: 0.9994 - val_loss: 1.3245 - val_accuracy: 0.8864\n",
      "Epoch 95/150\n",
      "100/100 [==============================] - 2s 24ms/step - loss: 0.0023 - accuracy: 0.9987 - val_loss: 1.1107 - val_accuracy: 0.9091\n",
      "Epoch 96/150\n",
      "100/100 [==============================] - 2s 23ms/step - loss: 0.0016 - accuracy: 0.9987 - val_loss: 1.7617 - val_accuracy: 0.9091\n",
      "Epoch 97/150\n",
      "100/100 [==============================] - 2s 24ms/step - loss: 3.9228e-05 - accuracy: 1.0000 - val_loss: 1.3088 - val_accuracy: 0.9091\n",
      "Epoch 98/150\n",
      "100/100 [==============================] - 2s 23ms/step - loss: 1.1931e-04 - accuracy: 1.0000 - val_loss: 2.5070 - val_accuracy: 0.9091\n",
      "Epoch 99/150\n",
      "100/100 [==============================] - 2s 24ms/step - loss: 8.1196e-04 - accuracy: 0.9994 - val_loss: 0.7991 - val_accuracy: 0.9091\n",
      "Epoch 100/150\n",
      "100/100 [==============================] - 2s 23ms/step - loss: 3.5596e-06 - accuracy: 1.0000 - val_loss: 0.9965 - val_accuracy: 0.9318\n",
      "Epoch 101/150\n",
      "100/100 [==============================] - 2s 24ms/step - loss: 1.3773e-05 - accuracy: 1.0000 - val_loss: 1.1536 - val_accuracy: 0.9318\n",
      "Epoch 102/150\n",
      "100/100 [==============================] - 2s 23ms/step - loss: 5.6637e-04 - accuracy: 0.9994 - val_loss: 1.5794 - val_accuracy: 0.8864\n",
      "Epoch 103/150\n",
      "100/100 [==============================] - 2s 24ms/step - loss: 0.0047 - accuracy: 0.9994 - val_loss: 1.9555 - val_accuracy: 0.8636\n",
      "Epoch 104/150\n",
      "100/100 [==============================] - 2s 23ms/step - loss: 0.0254 - accuracy: 0.9987 - val_loss: 2.9593 - val_accuracy: 0.8864\n",
      "Epoch 105/150\n",
      "100/100 [==============================] - 2s 24ms/step - loss: 0.0010 - accuracy: 0.9994 - val_loss: 2.0502 - val_accuracy: 0.8864\n",
      "Epoch 106/150\n",
      "100/100 [==============================] - 2s 23ms/step - loss: 9.1404e-04 - accuracy: 1.0000 - val_loss: 1.5297 - val_accuracy: 0.8864\n",
      "Epoch 107/150\n",
      "100/100 [==============================] - 2s 24ms/step - loss: 0.0018 - accuracy: 0.9987 - val_loss: 1.5428 - val_accuracy: 0.8864\n",
      "Epoch 108/150\n",
      "100/100 [==============================] - 2s 23ms/step - loss: 0.0013 - accuracy: 0.9994 - val_loss: 0.9294 - val_accuracy: 0.9091\n",
      "Epoch 109/150\n",
      "100/100 [==============================] - 2s 24ms/step - loss: 0.0011 - accuracy: 0.9994 - val_loss: 0.9506 - val_accuracy: 0.9091\n",
      "Epoch 110/150\n",
      "100/100 [==============================] - 2s 23ms/step - loss: 0.0032 - accuracy: 0.9981 - val_loss: 1.1476 - val_accuracy: 0.8864\n",
      "Epoch 111/150\n",
      "100/100 [==============================] - 2s 24ms/step - loss: 4.3457e-04 - accuracy: 1.0000 - val_loss: 2.5936 - val_accuracy: 0.9091\n",
      "Epoch 112/150\n"
     ]
    },
    {
     "name": "stdout",
     "output_type": "stream",
     "text": [
      "100/100 [==============================] - 2s 23ms/step - loss: 5.1685e-05 - accuracy: 1.0000 - val_loss: 1.9232 - val_accuracy: 0.9091\n",
      "Epoch 113/150\n",
      "100/100 [==============================] - 2s 24ms/step - loss: 1.3522e-05 - accuracy: 1.0000 - val_loss: 1.8425 - val_accuracy: 0.9091\n",
      "Epoch 114/150\n",
      "100/100 [==============================] - 2s 23ms/step - loss: 4.4646e-05 - accuracy: 1.0000 - val_loss: 2.5894 - val_accuracy: 0.8864\n",
      "Epoch 115/150\n",
      "100/100 [==============================] - 2s 24ms/step - loss: 1.8767e-05 - accuracy: 1.0000 - val_loss: 1.8952 - val_accuracy: 0.8864\n",
      "Epoch 116/150\n",
      "100/100 [==============================] - 2s 23ms/step - loss: 4.5859e-04 - accuracy: 0.9994 - val_loss: 1.4790 - val_accuracy: 0.8864\n",
      "Epoch 117/150\n",
      "100/100 [==============================] - 2s 24ms/step - loss: 0.0029 - accuracy: 0.9994 - val_loss: 0.8986 - val_accuracy: 0.9091\n",
      "Epoch 118/150\n",
      "100/100 [==============================] - 2s 23ms/step - loss: 4.5047e-04 - accuracy: 1.0000 - val_loss: 1.2111 - val_accuracy: 0.8864\n",
      "Epoch 119/150\n",
      "100/100 [==============================] - 2s 24ms/step - loss: 1.3302e-04 - accuracy: 1.0000 - val_loss: 1.3375 - val_accuracy: 0.8636\n",
      "Epoch 120/150\n",
      "100/100 [==============================] - 2s 23ms/step - loss: 0.0053 - accuracy: 0.9987 - val_loss: 1.1400 - val_accuracy: 0.9091\n",
      "Epoch 121/150\n",
      "100/100 [==============================] - 2s 24ms/step - loss: 0.0022 - accuracy: 0.9994 - val_loss: 2.5565 - val_accuracy: 0.9091\n",
      "Epoch 122/150\n",
      "100/100 [==============================] - 2s 23ms/step - loss: 7.0782e-05 - accuracy: 1.0000 - val_loss: 1.8071 - val_accuracy: 0.8864\n",
      "Epoch 123/150\n",
      "100/100 [==============================] - 2s 24ms/step - loss: 4.7134e-05 - accuracy: 1.0000 - val_loss: 1.7733 - val_accuracy: 0.9318\n",
      "Epoch 124/150\n",
      "100/100 [==============================] - 2s 23ms/step - loss: 6.0698e-07 - accuracy: 1.0000 - val_loss: 1.8256 - val_accuracy: 0.9318\n",
      "Epoch 125/150\n",
      "100/100 [==============================] - 2s 24ms/step - loss: 1.0222e-05 - accuracy: 1.0000 - val_loss: 1.7945 - val_accuracy: 0.9318\n",
      "Epoch 126/150\n",
      "100/100 [==============================] - 2s 23ms/step - loss: 1.5300e-06 - accuracy: 1.0000 - val_loss: 1.7636 - val_accuracy: 0.9318\n",
      "Epoch 127/150\n",
      "100/100 [==============================] - 2s 24ms/step - loss: 2.3483e-06 - accuracy: 1.0000 - val_loss: 2.0712 - val_accuracy: 0.9091\n",
      "Epoch 128/150\n",
      "100/100 [==============================] - 2s 23ms/step - loss: 2.0521e-07 - accuracy: 1.0000 - val_loss: 2.0328 - val_accuracy: 0.9091\n",
      "Epoch 129/150\n",
      "100/100 [==============================] - 2s 24ms/step - loss: 3.6214e-08 - accuracy: 1.0000 - val_loss: 2.0201 - val_accuracy: 0.9091\n",
      "Epoch 130/150\n",
      "100/100 [==============================] - 2s 23ms/step - loss: 3.8068e-06 - accuracy: 1.0000 - val_loss: 2.1308 - val_accuracy: 0.9091\n",
      "Epoch 131/150\n",
      "100/100 [==============================] - 2s 24ms/step - loss: 0.0058 - accuracy: 0.9975 - val_loss: 3.0584 - val_accuracy: 0.8864\n",
      "Epoch 132/150\n",
      "100/100 [==============================] - 2s 23ms/step - loss: 1.9527e-05 - accuracy: 1.0000 - val_loss: 2.7815 - val_accuracy: 0.8864\n",
      "Epoch 133/150\n",
      "100/100 [==============================] - 2s 24ms/step - loss: 0.0038 - accuracy: 0.9994 - val_loss: 1.7188 - val_accuracy: 0.9091\n",
      "Epoch 134/150\n",
      "100/100 [==============================] - 2s 23ms/step - loss: 8.9369e-05 - accuracy: 1.0000 - val_loss: 2.0299 - val_accuracy: 0.9091\n",
      "Epoch 135/150\n",
      "100/100 [==============================] - 2s 24ms/step - loss: 0.0039 - accuracy: 0.9987 - val_loss: 1.5595 - val_accuracy: 0.8864\n",
      "Epoch 136/150\n",
      "100/100 [==============================] - 2s 23ms/step - loss: 0.0013 - accuracy: 0.9994 - val_loss: 1.6916 - val_accuracy: 0.9091\n",
      "Epoch 137/150\n",
      "100/100 [==============================] - 2s 24ms/step - loss: 8.2359e-07 - accuracy: 1.0000 - val_loss: 1.6119 - val_accuracy: 0.9091\n",
      "Epoch 138/150\n",
      "100/100 [==============================] - 2s 23ms/step - loss: 5.4114e-06 - accuracy: 1.0000 - val_loss: 1.5634 - val_accuracy: 0.9091\n",
      "Epoch 139/150\n",
      "100/100 [==============================] - 2s 24ms/step - loss: 3.2533e-05 - accuracy: 1.0000 - val_loss: 0.9061 - val_accuracy: 0.9091\n",
      "Epoch 140/150\n",
      "100/100 [==============================] - 2s 23ms/step - loss: 1.8071e-07 - accuracy: 1.0000 - val_loss: 0.9047 - val_accuracy: 0.9091\n",
      "Epoch 141/150\n",
      "100/100 [==============================] - 3s 29ms/step - loss: 4.6007e-06 - accuracy: 1.0000 - val_loss: 1.2189 - val_accuracy: 0.8409\n",
      "Epoch 142/150\n",
      "100/100 [==============================] - 2s 23ms/step - loss: 2.0379e-06 - accuracy: 1.0000 - val_loss: 1.2061 - val_accuracy: 0.8409\n",
      "Epoch 143/150\n",
      "100/100 [==============================] - 2s 24ms/step - loss: 6.5214e-05 - accuracy: 1.0000 - val_loss: 2.2741 - val_accuracy: 0.8182\n",
      "Epoch 144/150\n",
      "100/100 [==============================] - 2s 23ms/step - loss: 0.0039 - accuracy: 0.9981 - val_loss: 2.0198 - val_accuracy: 0.8864\n",
      "Epoch 145/150\n",
      "100/100 [==============================] - 2s 24ms/step - loss: 2.1892e-05 - accuracy: 1.0000 - val_loss: 4.5817 - val_accuracy: 0.8636\n",
      "Epoch 146/150\n",
      "100/100 [==============================] - 2s 23ms/step - loss: 3.4827e-05 - accuracy: 1.0000 - val_loss: 2.3355 - val_accuracy: 0.8864\n",
      "Epoch 147/150\n",
      "100/100 [==============================] - 2s 24ms/step - loss: 1.2078e-06 - accuracy: 1.0000 - val_loss: 2.2699 - val_accuracy: 0.8636\n",
      "Epoch 148/150\n",
      "100/100 [==============================] - 2s 23ms/step - loss: 2.6468e-06 - accuracy: 1.0000 - val_loss: 2.3155 - val_accuracy: 0.8636\n",
      "Epoch 149/150\n",
      "100/100 [==============================] - 2s 24ms/step - loss: 2.6985e-05 - accuracy: 1.0000 - val_loss: 4.7552 - val_accuracy: 0.8864\n",
      "Epoch 150/150\n",
      "100/100 [==============================] - 2s 23ms/step - loss: 3.1193e-06 - accuracy: 1.0000 - val_loss: 4.2160 - val_accuracy: 0.8864\n"
     ]
    }
   ],
   "source": [
    "history = model.fit_generator(train_datagen, 100, 150, validation_data=(X_test, y_test), callbacks=[reduce_lr])"
   ]
  },
  {
   "cell_type": "code",
   "execution_count": 32,
   "metadata": {},
   "outputs": [
    {
     "data": {
      "text/plain": [
       "[<matplotlib.lines.Line2D at 0x7f82dc30b668>]"
      ]
     },
     "execution_count": 32,
     "metadata": {},
     "output_type": "execute_result"
    },
    {
     "data": {
      "image/png": "[encoded data removed]",
      "text/plain": [
       "<Figure size 432x288 with 1 Axes>"
      ]
     },
     "metadata": {
      "needs_background": "light"
     },
     "output_type": "display_data"
    }
   ],
   "source": [
    "plt.plot(history.history['val_accuracy'])"
   ]
  },
  {
   "cell_type": "code",
   "execution_count": 33,
   "metadata": {},
   "outputs": [],
   "source": [
    "from sklearn.metrics import classification_report, confusion_matrix"
   ]
  },
  {
   "cell_type": "code",
   "execution_count": 19,
   "metadata": {},
   "outputs": [],
   "source": [
    "y_pred = model.predict(X_test)"
   ]
  },
  {
   "cell_type": "code",
   "execution_count": 20,
   "metadata": {},
   "outputs": [
    {
     "data": {
      "text/plain": [
       "array([8.505179e-10, 3.764524e-06, 9.999962e-01], dtype=float32)"
      ]
     },
     "execution_count": 20,
     "metadata": {},
     "output_type": "execute_result"
    }
   ],
   "source": [
    "y_pred[1]"
   ]
  },
  {
   "cell_type": "code",
   "execution_count": 21,
   "metadata": {},
   "outputs": [
    {
     "data": {
      "text/plain": [
       "<matplotlib.image.AxesImage at 0x7f82dea7b518>"
      ]
     },
     "execution_count": 21,
     "metadata": {},
     "output_type": "execute_result"
    },
    {
     "data": {
      "image/png": "[encoded data removed]",
      "text/plain": [
       "<Figure size 432x288 with 1 Axes>"
      ]
     },
     "metadata": {
      "needs_background": "light"
     },
     "output_type": "display_data"
    }
   ],
   "source": [
    "plt.imshow(X_test[1])"
   ]
  },
  {
   "cell_type": "code",
   "execution_count": 34,
   "metadata": {},
   "outputs": [
    {
     "name": "stdout",
     "output_type": "stream",
     "text": [
      "              precision    recall  f1-score   support\n",
      "\n",
      "           0       1.00      0.25      0.40         4\n",
      "           1       0.96      0.96      0.96        23\n",
      "           2       0.85      1.00      0.92        17\n",
      "\n",
      "    accuracy                           0.91        44\n",
      "   macro avg       0.94      0.74      0.76        44\n",
      "weighted avg       0.92      0.91      0.89        44\n",
      "\n"
     ]
    }
   ],
   "source": [
    "print(classification_report(np.argmax(y_test, axis=1), np.argmax(y_pred, axis=1)))"
   ]
  },
  {
   "cell_type": "code",
   "execution_count": 35,
   "metadata": {},
   "outputs": [
    {
     "data": {
      "text/plain": [
       "array([[ 1,  1,  2],\n",
       "       [ 0, 22,  1],\n",
       "       [ 0,  0, 17]])"
      ]
     },
     "execution_count": 35,
     "metadata": {},
     "output_type": "execute_result"
    }
   ],
   "source": [
    "confusion_matrix(np.argmax(y_test, axis=1), np.argmax(y_pred, axis=1))"
   ]
  },
  {
   "cell_type": "code",
   "execution_count": 38,
   "metadata": {},
   "outputs": [],
   "source": [
    "with open('./Saved Models/Model/Sign.json', 'w') as model_file:\n",
    "    model_file.write(model.to_json())"
   ]
  },
  {
   "cell_type": "code",
   "execution_count": 36,
   "metadata": {},
   "outputs": [],
   "source": [
    "model.save('./Saved Models/Weights/sign.h5')"
   ]
  },
  {
   "cell_type": "code",
   "execution_count": null,
   "metadata": {},
   "outputs": [],
   "source": []
  }
 ],
 "metadata": {
  "kernelspec": {
   "display_name": "Python 3",
   "language": "python",
   "name": "python3"
  },
  "language_info": {
   "codemirror_mode": {
    "name": "ipython",
    "version": 3
   },
   "file_extension": ".py",
   "mimetype": "text/x-python",
   "name": "python",
   "nbconvert_exporter": "python",
   "pygments_lexer": "ipython3",
   "version": "3.6.9"
  }
 },
 "nbformat": 4,
 "nbformat_minor": 2
}
