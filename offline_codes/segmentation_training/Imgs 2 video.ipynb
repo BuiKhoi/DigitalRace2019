{
 "cells": [
  {
   "cell_type": "code",
   "execution_count": 1,
   "metadata": {},
   "outputs": [],
   "source": [
    "import os\n",
    "import cv2"
   ]
  },
  {
   "cell_type": "code",
   "execution_count": 3,
   "metadata": {},
   "outputs": [],
   "source": [
    "vid_out = cv2.VideoWriter('map3.avi',cv2.VideoWriter_fourcc('M','J','P','G'), 60, (320, 240))"
   ]
  },
  {
   "cell_type": "code",
   "execution_count": 5,
   "metadata": {},
   "outputs": [],
   "source": [
    "base = '../Datasets/DataFull-master/DataFull3/'\n",
    "for dirr in os.listdir(base):\n",
    "    if 'jpg' in dirr:\n",
    "        img = cv2.imread(base + dirr)\n",
    "        vid_out.write(img)\n",
    "#         cv2.imshow('img', img)\n",
    "#         if cv2.waitKey(1) & 0xFF == ord('q'):\n",
    "#             break\n",
    "cv2.destroyAllWindows()\n",
    "vid_out.release()"
   ]
  },
  {
   "cell_type": "code",
   "execution_count": null,
   "metadata": {},
   "outputs": [],
   "source": []
  }
 ],
 "metadata": {
  "kernelspec": {
   "display_name": "Python 3",
   "language": "python",
   "name": "python3"
  },
  "language_info": {
   "codemirror_mode": {
    "name": "ipython",
    "version": 3
   },
   "file_extension": ".py",
   "mimetype": "text/x-python",
   "name": "python",
   "nbconvert_exporter": "python",
   "pygments_lexer": "ipython3",
   "version": "3.6.9"
  }
 },
 "nbformat": 4,
 "nbformat_minor": 2
}
