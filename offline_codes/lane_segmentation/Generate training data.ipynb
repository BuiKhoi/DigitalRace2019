{
 "cells": [
  {
   "cell_type": "code",
   "execution_count": 1,
   "metadata": {},
   "outputs": [],
   "source": [
    "import os\n",
    "import cv2\n",
    "import time\n",
    "import numpy as np\n",
    "from shutil import rmtree\n",
    "from threading import Thread\n",
    "from matplotlib import pyplot as plt"
   ]
  },
  {
   "cell_type": "code",
   "execution_count": 17,
   "metadata": {},
   "outputs": [],
   "source": [
    "VAL_RATIO = 0.2\n",
    "MEANS = (0.406, 0.456, 0.485)\n",
    "STDS = (0.225, 0.224, 0.229)"
   ]
  },
  {
   "cell_type": "code",
   "execution_count": 2,
   "metadata": {},
   "outputs": [],
   "source": [
    "def millis():\n",
    "    return int(time.time() * 1000)"
   ]
  },
  {
   "cell_type": "code",
   "execution_count": 4,
   "metadata": {},
   "outputs": [
    {
     "name": "stderr",
     "output_type": "stream",
     "text": [
      "/home/buikhoi/miniconda3/envs/ComputerVision/lib/python3.7/site-packages/tensorboard/compat/tensorflow_stub/dtypes.py:541: FutureWarning: Passing (type, 1) or '1type' as a synonym of type is deprecated; in a future version of numpy, it will be understood as (type, (1,)) / '(1,)type'.\n",
      "  _np_qint8 = np.dtype([(\"qint8\", np.int8, 1)])\n",
      "/home/buikhoi/miniconda3/envs/ComputerVision/lib/python3.7/site-packages/tensorboard/compat/tensorflow_stub/dtypes.py:542: FutureWarning: Passing (type, 1) or '1type' as a synonym of type is deprecated; in a future version of numpy, it will be understood as (type, (1,)) / '(1,)type'.\n",
      "  _np_quint8 = np.dtype([(\"quint8\", np.uint8, 1)])\n",
      "/home/buikhoi/miniconda3/envs/ComputerVision/lib/python3.7/site-packages/tensorboard/compat/tensorflow_stub/dtypes.py:543: FutureWarning: Passing (type, 1) or '1type' as a synonym of type is deprecated; in a future version of numpy, it will be understood as (type, (1,)) / '(1,)type'.\n",
      "  _np_qint16 = np.dtype([(\"qint16\", np.int16, 1)])\n",
      "/home/buikhoi/miniconda3/envs/ComputerVision/lib/python3.7/site-packages/tensorboard/compat/tensorflow_stub/dtypes.py:544: FutureWarning: Passing (type, 1) or '1type' as a synonym of type is deprecated; in a future version of numpy, it will be understood as (type, (1,)) / '(1,)type'.\n",
      "  _np_quint16 = np.dtype([(\"quint16\", np.uint16, 1)])\n",
      "/home/buikhoi/miniconda3/envs/ComputerVision/lib/python3.7/site-packages/tensorboard/compat/tensorflow_stub/dtypes.py:545: FutureWarning: Passing (type, 1) or '1type' as a synonym of type is deprecated; in a future version of numpy, it will be understood as (type, (1,)) / '(1,)type'.\n",
      "  _np_qint32 = np.dtype([(\"qint32\", np.int32, 1)])\n",
      "/home/buikhoi/miniconda3/envs/ComputerVision/lib/python3.7/site-packages/tensorboard/compat/tensorflow_stub/dtypes.py:550: FutureWarning: Passing (type, 1) or '1type' as a synonym of type is deprecated; in a future version of numpy, it will be understood as (type, (1,)) / '(1,)type'.\n",
      "  np_resource = np.dtype([(\"resource\", np.ubyte, 1)])\n"
     ]
    }
   ],
   "source": [
    "from classification_models.tfkeras import Classifiers\n",
    "ResNet18, preprocess_input = Classifiers.get('resnet18')"
   ]
  },
  {
   "cell_type": "code",
   "execution_count": 3,
   "metadata": {},
   "outputs": [],
   "source": [
    "def get_all_img(images_link):\n",
    "        # Get all (image, annotation) from path\n",
    "        img_links = []\n",
    "        i = 0\n",
    "        for f1 in os.listdir(images_link):\n",
    "            new_path_f1 = os.path.join(images_link, f1)\n",
    "            \n",
    "            for f2 in os.listdir(new_path_f1):\n",
    "                new_path_f2 = os.path.join(new_path_f1, f2)\n",
    "                if any(x not in os.listdir(new_path_f2) for x in ['20.png', '20.jpg']):\n",
    "                    i += 1\n",
    "                    continue\n",
    "\n",
    "                img_link = os.path.join(new_path_f2, '20.jpg')\n",
    "                anno_link = os.path.join(new_path_f2, '20.png')\n",
    "\n",
    "                img_links.append((img_link, anno_link))       \n",
    "        return img_links"
   ]
  },
  {
   "cell_type": "code",
   "execution_count": 4,
   "metadata": {},
   "outputs": [],
   "source": [
    "images = get_all_img('./../../Data/TUSimple/train_set/clips/')"
   ]
  },
  {
   "cell_type": "code",
   "execution_count": 11,
   "metadata": {},
   "outputs": [],
   "source": [
    "# def normalize(image, means, stds):\n",
    "#     new_image = np.empty(image.shape, np.float32)\n",
    "#     for i in range(3):\n",
    "#         sub_image = image[:, :, i]\n",
    "#         sub_image = (sub_image - sub_image.mean()) / sub_image.std() * stds[i] + means[i]\n",
    "#         new_image[:, :, i] = sub_image\n",
    "#     return new_image\n",
    "\n",
    "def normalize(image):\n",
    "    return (image - image.mean()) / image.std()"
   ]
  },
  {
   "cell_type": "code",
   "execution_count": 25,
   "metadata": {},
   "outputs": [],
   "source": [
    "target_folder = './training_images/'\n",
    "\n",
    "if os.path.exists(target_folder + 'train'):\n",
    "    rmtree(target_folder + 'train')\n",
    "    \n",
    "if os.path.exists(target_folder + 'val'):\n",
    "    rmtree(target_folder + 'val')\n",
    "\n",
    "os.mkdir(target_folder + 'train')\n",
    "os.mkdir(target_folder + 'val')"
   ]
  },
  {
   "cell_type": "code",
   "execution_count": 26,
   "metadata": {},
   "outputs": [],
   "source": [
    "def process_image(image, index):\n",
    "    print('Processing image {} of {}'.format(idx, len(images)), end='\\r')\n",
    "    new_image = np.empty((288, 800, 4), np.float32)\n",
    "    img = cv2.imread(image[0])\n",
    "    img = cv2.resize(img, (800, 288))\n",
    "    anno = cv2.resize(cv2.imread(image[1]), (800, 288))\n",
    "    anno[anno>0] = 1\n",
    "    new_image[:, :, :3] = normalize(img)\n",
    "    new_image[:, :, -1] = anno[:, :, 0]\n",
    "    save_path = target_folder\n",
    "    if np.random.random() < VAL_RATIO:\n",
    "        save_path += 'val/'\n",
    "    else:\n",
    "        save_path += 'train/'\n",
    "    np.savez_compressed(save_path + str(millis()), image=new_image[:, :, (2, 1, 0, 3)])"
   ]
  },
  {
   "cell_type": "code",
   "execution_count": 27,
   "metadata": {},
   "outputs": [
    {
     "name": "stdout",
     "output_type": "stream",
     "text": [
      "Processing image 4943 of 4944Processing image 4826 of 4944Processing image 3139 of 4944cessing image 1015 of 4944Processing image 1136 of 4944Processing image 1163 of 4944Processing image 1553 of 4944Processing image 1760 of 4944Processing image 1761 of 4944Processing image 1762 of 4944Processing image 2236 of 4944Processing image 2761 of 4944Processing image 2829 of 4944Processing image 3376 of 4944Processing image 3556 of 4944Processing image 3703 of 4944\r"
     ]
    }
   ],
   "source": [
    "processing_threads = []\n",
    "max_thread = 20\n",
    "for idx, image in enumerate(images):\n",
    "    processing_threads.append(Thread(target=process_image, args=[image, idx]))\n",
    "    processing_threads[-1].start()\n",
    "    time.sleep(0.0001)\n",
    "#     break\n",
    "    if len(processing_threads) == max_thread:\n",
    "        while all([t.is_alive() for t in processing_threads]):\n",
    "            time.sleep(0.001)\n",
    "        \n",
    "        for t in reversed(processing_threads):\n",
    "            if not t.is_alive():\n",
    "                processing_threads.remove(t)"
   ]
  },
  {
   "cell_type": "code",
   "execution_count": 33,
   "metadata": {},
   "outputs": [
    {
     "name": "stderr",
     "output_type": "stream",
     "text": [
      "Clipping input data to the valid range for imshow with RGB data ([0..1] for floats or [0..255] for integers).\n"
     ]
    },
    {
     "data": {
      "text/plain": [
       "<matplotlib.image.AxesImage at 0x7f65199799b0>"
      ]
     },
     "execution_count": 33,
     "metadata": {},
     "output_type": "execute_result"
    },
    {
     "data": {
      "image/png": "[encoded data removed]",
      "text/plain": [
       "<Figure size 432x288 with 1 Axes>"
      ]
     },
     "metadata": {
      "needs_background": "dark"
     },
     "output_type": "display_data"
    }
   ],
   "source": [
    "saved_dir = './training_images/train/'\n",
    "saved_images = [saved_dir + f for f in os.listdir(saved_dir)]\n",
    "saved_image = np.load(np.random.choice(saved_images))['image']\n",
    "plt.imshow(saved_image[:, :, :3])"
   ]
  },
  {
   "cell_type": "code",
   "execution_count": 47,
   "metadata": {},
   "outputs": [
    {
     "data": {
      "text/plain": [
       "array([[[0.2931686 , 0.3770703 , 0.35091096, 0.        ],\n",
       "        [0.32936177, 0.38874897, 0.37778968, 0.        ],\n",
       "        [0.45603794, 0.46271378, 0.47378504, 0.        ],\n",
       "        ...,\n",
       "        [0.12577508, 0.11235419, 0.0706045 , 0.        ],\n",
       "        [0.12577508, 0.11235419, 0.0706045 , 0.        ],\n",
       "        [0.12577508, 0.11235419, 0.0706045 , 0.        ]],\n",
       "\n",
       "       [[0.29769275, 0.3809632 , 0.39314893, 0.        ],\n",
       "        [0.4153206 , 0.4782853 , 0.49682394, 0.        ],\n",
       "        [0.49675527, 0.53667855, 0.5659406 , 0.        ],\n",
       "        ...,\n",
       "        [0.12577508, 0.11235419, 0.0706045 , 0.        ],\n",
       "        [0.12577508, 0.11235419, 0.0706045 , 0.        ],\n",
       "        [0.12577508, 0.11235419, 0.0706045 , 0.        ]],\n",
       "\n",
       "       [[0.33388594, 0.3770703 , 0.412348  , 0.        ],\n",
       "        [0.41984475, 0.45882088, 0.49298412, 0.        ],\n",
       "        [0.55104506, 0.58728606, 0.62353784, 0.        ],\n",
       "        ...,\n",
       "        [0.12577508, 0.11235419, 0.0706045 , 0.        ],\n",
       "        [0.12577508, 0.11235419, 0.0706045 , 0.        ],\n",
       "        [0.12577508, 0.11235419, 0.0706045 , 0.        ]],\n",
       "\n",
       "       ...,\n",
       "\n",
       "       [[0.4424655 , 0.41210628, 0.35091096, 0.        ],\n",
       "        [0.4515138 , 0.41989204, 0.3585906 , 0.        ],\n",
       "        [0.4515138 , 0.41989204, 0.3585906 , 0.        ],\n",
       "        ...,\n",
       "        [0.35198253, 0.33814147, 0.3317119 , 0.        ],\n",
       "        [0.34745836, 0.3342486 , 0.3278721 , 0.        ],\n",
       "        [0.34745836, 0.3342486 , 0.3278721 , 0.        ]],\n",
       "\n",
       "       [[0.4605621 , 0.4276778 , 0.36627024, 0.        ],\n",
       "        [0.4605621 , 0.4276778 , 0.36627024, 0.        ],\n",
       "        [0.4515138 , 0.41989204, 0.3585906 , 0.        ],\n",
       "        ...,\n",
       "        [0.35198253, 0.34203437, 0.31635264, 0.        ],\n",
       "        [0.34745836, 0.33814147, 0.31251281, 0.        ],\n",
       "        [0.34293422, 0.3342486 , 0.31251281, 0.        ]],\n",
       "\n",
       "       [[0.43794134, 0.4082134 , 0.34707117, 0.        ],\n",
       "        [0.43794134, 0.4082134 , 0.34707117, 0.        ],\n",
       "        [0.4334172 , 0.4043205 , 0.34323135, 0.        ],\n",
       "        ...,\n",
       "        [0.33841008, 0.3303557 , 0.29715356, 0.        ],\n",
       "        [0.33388594, 0.32646284, 0.29331374, 0.        ],\n",
       "        [0.33388594, 0.32646284, 0.29331374, 0.        ]]], dtype=float32)"
      ]
     },
     "execution_count": 47,
     "metadata": {},
     "output_type": "execute_result"
    }
   ],
   "source": [
    "saved_image"
   ]
  },
  {
   "cell_type": "code",
   "execution_count": 29,
   "metadata": {},
   "outputs": [
    {
     "name": "stdout",
     "output_type": "stream",
     "text": [
      "35 error(s) on a total of 3914 images\n",
      "4 error(s) on a total of 979 images\n"
     ]
    }
   ],
   "source": [
    "for saved_dir in ['./training_images/' + f for f in ['train/', 'val/']]:\n",
    "    error_count = 0\n",
    "    saved_images = [saved_dir + f for f in os.listdir(saved_dir)]\n",
    "\n",
    "    for idx, img in enumerate(saved_images):\n",
    "        print('Counting image {}'.format(idx), end='\\r')\n",
    "        try:\n",
    "            np.load(img)['image']\n",
    "        except:\n",
    "    #         print('Found a type error image')\n",
    "            error_count += 1\n",
    "            os.remove(img)\n",
    "    print('{} error(s) on a total of {} images'.format(error_count, len(saved_images)))"
   ]
  },
  {
   "cell_type": "code",
   "execution_count": 31,
   "metadata": {},
   "outputs": [
    {
     "name": "stdout",
     "output_type": "stream",
     "text": [
      "./training_images/val/1607363369995.npz\n"
     ]
    }
   ],
   "source": [
    "rand_image = np.random.choice(saved_images)\n",
    "image = cv2.imread(rand_image, cv2.IMREAD_UNCHANGED)\n",
    "try:\n",
    "    plt.imshow(image[:, :, :3])\n",
    "except TypeError:\n",
    "    print(rand_image)"
   ]
  },
  {
   "cell_type": "code",
   "execution_count": null,
   "metadata": {},
   "outputs": [],
   "source": []
  },
  {
   "cell_type": "code",
   "execution_count": 102,
   "metadata": {},
   "outputs": [
    {
     "ename": "SyntaxError",
     "evalue": "invalid syntax (<ipython-input-102-187f4fdf50ef>, line 1)",
     "output_type": "error",
     "traceback": [
      "\u001b[0;36m  File \u001b[0;32m\"<ipython-input-102-187f4fdf50ef>\"\u001b[0;36m, line \u001b[0;32m1\u001b[0m\n\u001b[0;31m    ./training_images/train/1606656473724.png\u001b[0m\n\u001b[0m    ^\u001b[0m\n\u001b[0;31mSyntaxError\u001b[0m\u001b[0;31m:\u001b[0m invalid syntax\n"
     ]
    }
   ],
   "source": []
  },
  {
   "cell_type": "code",
   "execution_count": 103,
   "metadata": {},
   "outputs": [
    {
     "ename": "TypeError",
     "evalue": "'NoneType' object is not subscriptable",
     "output_type": "error",
     "traceback": [
      "\u001b[0;31m---------------------------------------------------------------------------\u001b[0m",
      "\u001b[0;31mTypeError\u001b[0m                                 Traceback (most recent call last)",
      "\u001b[0;32m<ipython-input-103-1c9a5e823acb>\u001b[0m in \u001b[0;36m<module>\u001b[0;34m\u001b[0m\n\u001b[1;32m      1\u001b[0m \u001b[0mimage\u001b[0m \u001b[0;34m=\u001b[0m \u001b[0mcv2\u001b[0m\u001b[0;34m.\u001b[0m\u001b[0mimread\u001b[0m\u001b[0;34m(\u001b[0m\u001b[0;34m'./training_images/train/1606656473724.png'\u001b[0m\u001b[0;34m,\u001b[0m \u001b[0mcv2\u001b[0m\u001b[0;34m.\u001b[0m\u001b[0mIMREAD_UNCHANGED\u001b[0m\u001b[0;34m)\u001b[0m\u001b[0;34m\u001b[0m\u001b[0;34m\u001b[0m\u001b[0m\n\u001b[0;32m----> 2\u001b[0;31m \u001b[0mplt\u001b[0m\u001b[0;34m.\u001b[0m\u001b[0mimshow\u001b[0m\u001b[0;34m(\u001b[0m\u001b[0mimage\u001b[0m\u001b[0;34m[\u001b[0m\u001b[0;34m:\u001b[0m\u001b[0;34m,\u001b[0m \u001b[0;34m:\u001b[0m\u001b[0;34m,\u001b[0m \u001b[0;34m:\u001b[0m\u001b[0;36m3\u001b[0m\u001b[0;34m]\u001b[0m\u001b[0;34m)\u001b[0m\u001b[0;34m\u001b[0m\u001b[0;34m\u001b[0m\u001b[0m\n\u001b[0m",
      "\u001b[0;31mTypeError\u001b[0m: 'NoneType' object is not subscriptable"
     ]
    }
   ],
   "source": [
    "image = cv2.imread('./training_images/train/1606656473724.png', cv2.IMREAD_UNCHANGED)\n",
    "plt.imshow(image[:, :, :3])"
   ]
  },
  {
   "cell_type": "code",
   "execution_count": null,
   "metadata": {},
   "outputs": [],
   "source": []
  }
 ],
 "metadata": {
  "kernelspec": {
   "display_name": "Python 3",
   "language": "python",
   "name": "python3"
  },
  "language_info": {
   "codemirror_mode": {
    "name": "ipython",
    "version": 3
   },
   "file_extension": ".py",
   "mimetype": "text/x-python",
   "name": "python",
   "nbconvert_exporter": "python",
   "pygments_lexer": "ipython3",
   "version": "3.7.9"
  }
 },
 "nbformat": 4,
 "nbformat_minor": 4
}
