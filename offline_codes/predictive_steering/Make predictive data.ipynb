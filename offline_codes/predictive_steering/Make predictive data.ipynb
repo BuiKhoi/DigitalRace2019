{
 "cells": [
  {
   "cell_type": "code",
   "execution_count": 20,
   "metadata": {},
   "outputs": [],
   "source": [
    "import os\n",
    "import cv2\n",
    "from shutil import copyfile"
   ]
  },
  {
   "cell_type": "code",
   "execution_count": 8,
   "metadata": {},
   "outputs": [],
   "source": [
    "def get_files(img_folder):\n",
    "    files = []\n",
    "    for f1 in os.listdir(img_folder):\n",
    "        f1_path = img_folder + f1 + '/'\n",
    "        if not os.path.isdir(f1_path):\n",
    "            continue\n",
    "        for f2 in os.listdir(f1_path):\n",
    "            f2_path = f1_path + f2+ '/'\n",
    "            f2_files = []\n",
    "            for file in os.listdir(f2_path):\n",
    "                f2_files.append(f2_path + file)\n",
    "            files.append(f2_files)\n",
    "    return files"
   ]
  },
  {
   "cell_type": "code",
   "execution_count": 21,
   "metadata": {},
   "outputs": [],
   "source": [
    "image_folder = './images_data_left/'\n",
    "target_folder = './images_data_predictive/'"
   ]
  },
  {
   "cell_type": "code",
   "execution_count": 10,
   "metadata": {},
   "outputs": [],
   "source": [
    "images_files = get_files(image_folder)"
   ]
  },
  {
   "cell_type": "code",
   "execution_count": 17,
   "metadata": {},
   "outputs": [],
   "source": [
    "def get_time_millis(file_name):\n",
    "    return file_name.split('/')[-1].split('x')[0]"
   ]
  },
  {
   "cell_type": "code",
   "execution_count": 22,
   "metadata": {},
   "outputs": [
    {
     "name": "stdout",
     "output_type": "stream",
     "text": [
      "Processing idx 68 of 68\r"
     ]
    }
   ],
   "source": [
    "predictive_distance = 10 #frames\n",
    "\n",
    "for idx, img_batch in enumerate(images_files):\n",
    "    print('Processing idx {} of {}'.format(idx + 1, len(images_files)), end='\\r')\n",
    "    sorted_batch = img_batch.copy()\n",
    "    sorted_batch.sort(key= lambda x: get_time_millis(x))\n",
    "    for i in range(0, len(sorted_batch) - predictive_distance):\n",
    "        current_file = sorted_batch[i]\n",
    "        predictive_file = sorted_batch[i + predictive_distance]\n",
    "        extension = current_file.split('.')[-1]\n",
    "        mil, _, ste = current_file.split('/')[-1].split('.')[0].split('x')\n",
    "        pred_ste = predictive_file.split('/')[-1].split('.')[0].split('x')[-1]\n",
    "        \n",
    "        new_file = mil + 'x' + pred_ste + 'x' + ste + '.' + extension\n",
    "        copyfile(current_file, target_folder + new_file)"
   ]
  },
  {
   "cell_type": "code",
   "execution_count": null,
   "metadata": {},
   "outputs": [],
   "source": []
  }
 ],
 "metadata": {
  "kernelspec": {
   "display_name": "Python 3",
   "language": "python",
   "name": "python3"
  },
  "language_info": {
   "codemirror_mode": {
    "name": "ipython",
    "version": 3
   },
   "file_extension": ".py",
   "mimetype": "text/x-python",
   "name": "python",
   "nbconvert_exporter": "python",
   "pygments_lexer": "ipython3",
   "version": "3.7.9"
  }
 },
 "nbformat": 4,
 "nbformat_minor": 4
}
